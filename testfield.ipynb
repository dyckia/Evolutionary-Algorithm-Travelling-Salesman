{
 "cells": [
  {
   "cell_type": "code",
   "execution_count": 1,
   "metadata": {
    "collapsed": true
   },
   "outputs": [],
   "source": [
    "import numpy as np\n",
    "import random\n",
    "import matplotlib.pyplot as plt\n",
    "import tsp_traditional as tsp"
   ]
  },
  {
   "cell_type": "code",
   "execution_count": 2,
   "metadata": {
    "collapsed": true
   },
   "outputs": [],
   "source": [
    "visu_city = 0\n",
    "show_stat = 1\n",
    "gen = 500\n",
    "pop_size = 30\n",
    "cross_rate = 0.8\n",
    "muta_rate = 0.8"
   ]
  },
  {
   "cell_type": "code",
   "execution_count": 3,
   "metadata": {
    "collapsed": false
   },
   "outputs": [],
   "source": [
    "x, y, n = tsp.load_data('test.txt', visu_city)\n",
    "pop = tsp.init_pop(pop_size, n)"
   ]
  },
  {
   "cell_type": "code",
   "execution_count": 4,
   "metadata": {
    "collapsed": false
   },
   "outputs": [],
   "source": [
    "fit, _ = tsp.fitness(pop, x, y)"
   ]
  },
  {
   "cell_type": "code",
   "execution_count": 5,
   "metadata": {
    "collapsed": false
   },
   "outputs": [],
   "source": [
    "off = tsp.reprod(pop, fit, cross_rate, muta_rate)"
   ]
  },
  {
   "cell_type": "code",
   "execution_count": 6,
   "metadata": {
    "collapsed": false
   },
   "outputs": [],
   "source": [
    "new = tsp.nchoose_pop(pop, off, x, y)"
   ]
  },
  {
   "cell_type": "code",
   "execution_count": 7,
   "metadata": {
    "collapsed": false
   },
   "outputs": [
    {
     "name": "stdout",
     "output_type": "stream",
     "text": [
      "[[ 4  5  7  3  9  8 10  1  2  6]\n",
      " [ 4  5  7  3  9  8 10  1  2  6]\n",
      " [ 8  5  3  7  9  4 10  1  2  6]\n",
      " [ 8  5  3  7  9  4 10  1  2  6]\n",
      " [ 7  4  3  9  5 10  1  2  6  8]\n",
      " [ 8  5  7  3  9  4 10  1  2  6]\n",
      " [ 8  5  7  3  9  4 10  1  2  6]\n",
      " [ 8  5  7  3  9  4 10  1  2  6]\n",
      " [ 4  5  3  9 10  2  6  1  8  7]\n",
      " [ 4  3  9  2  1  6  8  7 10  5]\n",
      " [ 8  5  3  9 10  2  6  1  4  7]\n",
      " [10  5  1  6  2  9  8  7  3  4]\n",
      " [10  5  7  3  4  1  6  2  9  8]\n",
      " [10  2  1  4  9  5  6  7  3  8]\n",
      " [10  2  1  4  8  9  7  6  5  3]\n",
      " [10  2  1  8  9  5  6  7  3  4]\n",
      " [ 6  9  5  1  2 10  4  3  7  8]\n",
      " [ 5  7  3  9 10  2  6  8  4  1]\n",
      " [ 3  5  8  6  4  9 10  2  1  7]\n",
      " [10  8  6  7  2  1  5  9  3  4]\n",
      " [ 7  8 10  6  5  1  9  4  3  2]\n",
      " [ 4  9  2  6 10  5  3  1  7  8]\n",
      " [ 3  4  2  6  7  1  9 10  5  8]\n",
      " [10  7  2  4  1  9  5  8  3  6]\n",
      " [ 1  9  5  4  3  6  8  2  7 10]\n",
      " [10  8  6  7  2  1  5  9  3  4]\n",
      " [ 2  5  7  3  8 10  1  4  9  6]\n",
      " [ 2  1  4  8  6  7  5  9  3 10]\n",
      " [ 3  4  2  6  7  1  9 10  5  8]\n",
      " [ 4  9  2  6 10  5  3  1  7  8]]\n"
     ]
    }
   ],
   "source": [
    "print (new)"
   ]
  },
  {
   "cell_type": "code",
   "execution_count": null,
   "metadata": {
    "collapsed": true
   },
   "outputs": [],
   "source": []
  }
 ],
 "metadata": {
  "anaconda-cloud": {},
  "kernelspec": {
   "display_name": "Python [python3]",
   "language": "python",
   "name": "Python [python3]"
  },
  "language_info": {
   "codemirror_mode": {
    "name": "ipython",
    "version": 3
   },
   "file_extension": ".py",
   "mimetype": "text/x-python",
   "name": "python",
   "nbconvert_exporter": "python",
   "pygments_lexer": "ipython3",
   "version": "3.5.2"
  }
 },
 "nbformat": 4,
 "nbformat_minor": 0
}
