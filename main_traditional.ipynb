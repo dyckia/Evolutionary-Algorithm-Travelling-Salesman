{
 "cells": [
  {
   "cell_type": "code",
   "execution_count": 1,
   "metadata": {
    "collapsed": false
   },
   "outputs": [],
   "source": [
    "import tsp_traditional as tsp\n",
    "import numpy as np\n",
    "import matplotlib.pyplot as plt"
   ]
  },
  {
   "cell_type": "code",
   "execution_count": 2,
   "metadata": {
    "collapsed": true
   },
   "outputs": [],
   "source": [
    "visu_city = 0\n",
    "show_stat = 1\n",
    "gen = 500\n",
    "pop_size = 1000\n",
    "cross_rate = 0.8\n",
    "muta_rate = 0.9"
   ]
  },
  {
   "cell_type": "code",
   "execution_count": 3,
   "metadata": {
    "collapsed": false
   },
   "outputs": [
    {
     "name": "stdout",
     "output_type": "stream",
     "text": [
      "number of cities: 734\n",
      "population size: 1000\n",
      "epochs to be evolved: 500 \n",
      "\n"
     ]
    }
   ],
   "source": [
    "x, y, n = tsp.load_data('A2_TSP_Uruguay_734.txt', visu_city)\n",
    "origin_pop = tsp.init_pop(pop_size, n)\n",
    "print ('number of cities:', n)\n",
    "print ('population size:', pop_size)\n",
    "print ('epochs to be evolved:', gen,'\\n')"
   ]
  },
  {
   "cell_type": "code",
   "execution_count": null,
   "metadata": {
    "collapsed": false,
    "scrolled": false
   },
   "outputs": [
    {
     "name": "stdout",
     "output_type": "stream",
     "text": [
      "0th Gen:\n",
      "min length: 509001.647724\n",
      "avg length: 510039.113888\n",
      "max length: 510308.96089 \n",
      "\n"
     ]
    }
   ],
   "source": [
    "# pop = np.copy(origin_pop)\n",
    "lmin = []\n",
    "lavg = []\n",
    "lmax = []\n",
    "elite = np.zeros(100, int)\n",
    "for i in range(gen+1):\n",
    "    elite = pop[0]\n",
    "    fit, stat = tsp.fitness(pop, x, y)\n",
    "    lmin.append(stat[0])\n",
    "    lavg.append(stat[1])\n",
    "    lmax.append(stat[2])\n",
    "    if show_stat == 1:\n",
    "        # print statistics every ten generations\n",
    "        if i%10 == 0:\n",
    "            print ('%sth Gen:' % i)\n",
    "            print ('min length:', lmin[i])\n",
    "            print ('avg length:', lavg[i])\n",
    "            print ('max length:', lmax[i],'\\n')\n",
    "            # end the evolution if the solutions converge\n",
    "            if (lmin[i] == lmax[i]) and (lmin[i] == lmin[i-50]):\n",
    "                print ('Evolution ended since the solutions converge')\n",
    "                break\n",
    "    off = tsp.reprod(pop, fit, cross_rate, muta_rate)\n",
    "    pop = tsp.nchoose_pop(pop, off, x, y)\n",
    "if len(lmin) == gen+1:\n",
    "    print ('Evolution ended since max iteration was reached')\n",
    "print ('Best travel route is:', elite)\n",
    "l_elite = tsp.leng(elite, x, y)\n",
    "print ('Its length is:', l_elite)\n",
    "axis = list(range(len(lmin)))\n",
    "plt.plot(axis, lmin, 'b', label ='min')\n",
    "plt.plot(axis, lavg, 'g', label ='avg')\n",
    "plt.plot(axis, lmax, 'r', label ='max')\n",
    "plt.legend()\n",
    "plt.xlabel('epoch')\n",
    "plt.ylabel('route length')\n",
    "plt.show()\n",
    "e_route = np.append(elite, elite[0])\n",
    "rx = x[e_route-1]\n",
    "ry = y[e_route-1]\n",
    "plt.plot(rx, ry, 'r.-')\n",
    "plt.title('Optimal Route')\n",
    "plt.show()"
   ]
  },
  {
   "cell_type": "code",
   "execution_count": null,
   "metadata": {
    "collapsed": true
   },
   "outputs": [],
   "source": []
  }
 ],
 "metadata": {
  "anaconda-cloud": {},
  "kernelspec": {
   "display_name": "Python [python3]",
   "language": "python",
   "name": "Python [python3]"
  },
  "language_info": {
   "codemirror_mode": {
    "name": "ipython",
    "version": 3
   },
   "file_extension": ".py",
   "mimetype": "text/x-python",
   "name": "python",
   "nbconvert_exporter": "python",
   "pygments_lexer": "ipython3",
   "version": "3.5.2"
  }
 },
 "nbformat": 4,
 "nbformat_minor": 0
}
